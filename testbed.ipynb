{
 "cells": [
  {
   "cell_type": "code",
   "execution_count": 2,
   "metadata": {},
   "outputs": [
    {
     "name": "stdout",
     "output_type": "stream",
     "text": [
      "162\n"
     ]
    }
   ],
   "source": [
    "tickers_of_interest = ['ADM', 'AES', 'AFL', 'ARE', 'ALL', 'MO', 'AMZN', 'AAL', 'AIG', 'ABC', 'AON', 'AIZ', 'T', 'AZO', 'BKR', 'BAC', 'BBWI', 'BAX', 'BIO', 'BK', 'BA', 'BWA', 'BXP', 'CZR', 'COF', 'CAH', 'KMX', 'CCL', 'CE', 'CNC', 'CDAY', 'CF', 'CVX', 'CINF', 'C', 'CFG', 'CMA', 'COP', 'STZ', 'CEG', 'CTRA', 'CVS', 'DHI', 'XRAY', 'DVN', 'FANG', 'DFS', 'DISH', 'DPZ', 'DOW', 'DD', 'DXC', 'EBAY', 'EQT', 'ETSY', 'EVRG', 'XOM', 'FITB', 'FRC', 'FSLR', 'FIS', 'F', 'FTNT', 'FOX', 'BEN', 'GEN', 'GE', 'GM', 'GPN', 'GS', 'HIG', 'HCA', 'HPE', 'HLT', 'HPQ', 'HBAN', 'ILMN', 'INTC', 'IFF', 'IP', 'IVZ', 'JPM', 'KEY', 'KIM', 'KMI', 'KHC', 'LEN', 'LNC', 'LYV', 'L', 'LOW', 'LUMN', 'LYB', 'MTB', 'MRO', 'MPC', 'MAS', 'MTCH', 'MCD', 'MCK', 'MU', 'MRNA', 'MHK', 'TAP', 'MOS', 'MSCI', 'NWL', 'NEM', 'NWSA', 'NWS', 'NCLH', 'NRG', 'NUE', 'ORLY', 'OXY', 'ORCL', 'OGN', 'OTIS', 'PARA', 'PFE', 'PM', 'PSX', 'PNW', 'PXD', 'PNC', 'PPL', 'PFG', 'PRU', 'PHM', 'QRVO', 'O', 'RF', 'RCL', 'SBAC', 'SBNY', 'SWK', 'SBUX', 'STT', 'STLD', 'SIVB', 'SYF', 'TDG', 'TFC', 'TSN', 'USB', 'UHS', 'VLO', 'VTR', 'VRSN', 'VZ', 'VFC', 'VTRS', 'VICI', 'WBA', 'WBD', 'WFC', 'WDC', 'WRK', 'WHR', 'WYNN', 'YUM', 'ZION']  # values[\"P/B\"] < 1.5 or (values[\"P/E\"] < 15 and values[\"P/E\"] * values[\"P/B\"] <= 22.5\n",
    "print(len(tickers_of_interest))"
   ]
  },
  {
   "cell_type": "code",
   "execution_count": 7,
   "metadata": {},
   "outputs": [
    {
     "data": {
      "text/plain": [
       "10"
      ]
     },
     "execution_count": 7,
     "metadata": {},
     "output_type": "execute_result"
    }
   ],
   "source": [
    "import pandas\n",
    "\n",
    "\n",
    "pandas.Series(10).item()"
   ]
  },
  {
   "cell_type": "code",
   "execution_count": null,
   "metadata": {},
   "outputs": [],
   "source": []
  }
 ],
 "metadata": {
  "kernelspec": {
   "display_name": "Python 3",
   "language": "python",
   "name": "python3"
  },
  "language_info": {
   "codemirror_mode": {
    "name": "ipython",
    "version": 3
   },
   "file_extension": ".py",
   "mimetype": "text/x-python",
   "name": "python",
   "nbconvert_exporter": "python",
   "pygments_lexer": "ipython3",
   "version": "3.10.10"
  },
  "orig_nbformat": 4
 },
 "nbformat": 4,
 "nbformat_minor": 2
}
